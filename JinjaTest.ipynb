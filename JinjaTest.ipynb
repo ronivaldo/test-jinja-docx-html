{
  "nbformat": 4,
  "nbformat_minor": 0,
  "metadata": {
    "colab": {
      "name": "JinjaTest.ipynb",
      "provenance": [],
      "collapsed_sections": [],
      "authorship_tag": "ABX9TyMDmJI16MGHnSVFJssJcq5k",
      "include_colab_link": true
    },
    "kernelspec": {
      "name": "python3",
      "display_name": "Python 3"
    }
  },
  "cells": [
    {
      "cell_type": "markdown",
      "metadata": {
        "id": "view-in-github",
        "colab_type": "text"
      },
      "source": [
        "<a href=\"https://colab.research.google.com/github/ronivaldo/test-jinja-docx-html/blob/main/JinjaTest.ipynb\" target=\"_parent\"><img src=\"https://colab.research.google.com/assets/colab-badge.svg\" alt=\"Open In Colab\"/></a>"
      ]
    },
    {
      "cell_type": "markdown",
      "metadata": {
        "id": "_1ShPgqGadX5"
      },
      "source": [
        "## Teste\n",
        "\n",
        "Pode altera o código.. isso é apenas um teste!"
      ]
    },
    {
      "cell_type": "code",
      "metadata": {
        "id": "AT6ytOtujmJO",
        "outputId": "1b3a321d-fab5-4c87-af58-dd3d68fd66b1",
        "colab": {
          "base_uri": "https://localhost:8080/",
          "height": 445
        }
      },
      "source": [
        "print('downloading docx sample files..')\n",
        "!wget https://raw.githubusercontent.com/ronivaldo/test-jinja-docx-html/main/DocxTest.docx\n",
        "!wget https://raw.githubusercontent.com/ronivaldo/test-jinja-docx-html/main/my_word_template.docx\n",
        "print('done downloading')"
      ],
      "execution_count": 128,
      "outputs": [
        {
          "output_type": "stream",
          "text": [
            "downloading docx sample files..\n",
            "--2020-10-01 23:55:58--  https://raw.githubusercontent.com/ronivaldo/test-jinja-docx-html/main/DocxTest.docx\n",
            "Resolving raw.githubusercontent.com (raw.githubusercontent.com)... 151.101.0.133, 151.101.64.133, 151.101.128.133, ...\n",
            "Connecting to raw.githubusercontent.com (raw.githubusercontent.com)|151.101.0.133|:443... connected.\n",
            "HTTP request sent, awaiting response... 200 OK\n",
            "Length: 4689 (4.6K) [application/octet-stream]\n",
            "Saving to: ‘DocxTest.docx.1’\n",
            "\n",
            "\rDocxTest.docx.1       0%[                    ]       0  --.-KB/s               \rDocxTest.docx.1     100%[===================>]   4.58K  --.-KB/s    in 0s      \n",
            "\n",
            "2020-10-01 23:55:58 (42.1 MB/s) - ‘DocxTest.docx.1’ saved [4689/4689]\n",
            "\n",
            "--2020-10-01 23:55:58--  https://raw.githubusercontent.com/ronivaldo/test-jinja-docx-html/main/my_word_template.docx\n",
            "Resolving raw.githubusercontent.com (raw.githubusercontent.com)... 151.101.0.133, 151.101.64.133, 151.101.128.133, ...\n",
            "Connecting to raw.githubusercontent.com (raw.githubusercontent.com)|151.101.0.133|:443... connected.\n",
            "HTTP request sent, awaiting response... 200 OK\n",
            "Length: 4607 (4.5K) [application/octet-stream]\n",
            "Saving to: ‘my_word_template.docx.1’\n",
            "\n",
            "my_word_template.do 100%[===================>]   4.50K  --.-KB/s    in 0s      \n",
            "\n",
            "2020-10-01 23:55:58 (56.8 MB/s) - ‘my_word_template.docx.1’ saved [4607/4607]\n",
            "\n",
            "done downloading\n"
          ],
          "name": "stdout"
        }
      ]
    },
    {
      "cell_type": "code",
      "metadata": {
        "id": "tweFXbovUGug",
        "outputId": "f6dde201-f837-422f-b7ca-f94e86ecb2df",
        "colab": {
          "base_uri": "https://localhost:8080/",
          "height": 51
        }
      },
      "source": [
        "from jinja2 import Template\n",
        "t = Template(\"Hello {{ something }}!\")\n",
        "result = t.render(something=\"World\")\n",
        "print(result)\n",
        "t = Template(\"My favorite numbers: {% for n in range(1,10) %}{{n}} \" \"{% endfor %}\")\n",
        "result = t.render()\n",
        "result = print(result)"
      ],
      "execution_count": 129,
      "outputs": [
        {
          "output_type": "stream",
          "text": [
            "Hello World!\n",
            "My favorite numbers: 1 2 3 4 5 6 7 8 9 \n"
          ],
          "name": "stdout"
        }
      ]
    },
    {
      "cell_type": "code",
      "metadata": {
        "id": "AIpqvL4jUmGn",
        "outputId": "971696bd-793b-4755-9b3d-9a31a3ddec7a",
        "colab": {
          "base_uri": "https://localhost:8080/",
          "height": 204
        }
      },
      "source": [
        "import pandas as pd\n",
        "import io\n",
        "import requests\n",
        "\n",
        "url=\"https://raw.githubusercontent.com/cs109/2014_data/master/countries.csv\"\n",
        "df = pd.read_csv(url, encoding=\"utf-8\")\n",
        "df.head()"
      ],
      "execution_count": 130,
      "outputs": [
        {
          "output_type": "execute_result",
          "data": {
            "text/html": [
              "<div>\n",
              "<style scoped>\n",
              "    .dataframe tbody tr th:only-of-type {\n",
              "        vertical-align: middle;\n",
              "    }\n",
              "\n",
              "    .dataframe tbody tr th {\n",
              "        vertical-align: top;\n",
              "    }\n",
              "\n",
              "    .dataframe thead th {\n",
              "        text-align: right;\n",
              "    }\n",
              "</style>\n",
              "<table border=\"1\" class=\"dataframe\">\n",
              "  <thead>\n",
              "    <tr style=\"text-align: right;\">\n",
              "      <th></th>\n",
              "      <th>Country</th>\n",
              "      <th>Region</th>\n",
              "    </tr>\n",
              "  </thead>\n",
              "  <tbody>\n",
              "    <tr>\n",
              "      <th>0</th>\n",
              "      <td>Algeria</td>\n",
              "      <td>AFRICA</td>\n",
              "    </tr>\n",
              "    <tr>\n",
              "      <th>1</th>\n",
              "      <td>Angola</td>\n",
              "      <td>AFRICA</td>\n",
              "    </tr>\n",
              "    <tr>\n",
              "      <th>2</th>\n",
              "      <td>Benin</td>\n",
              "      <td>AFRICA</td>\n",
              "    </tr>\n",
              "    <tr>\n",
              "      <th>3</th>\n",
              "      <td>Botswana</td>\n",
              "      <td>AFRICA</td>\n",
              "    </tr>\n",
              "    <tr>\n",
              "      <th>4</th>\n",
              "      <td>Burkina</td>\n",
              "      <td>AFRICA</td>\n",
              "    </tr>\n",
              "  </tbody>\n",
              "</table>\n",
              "</div>"
            ],
            "text/plain": [
              "    Country  Region\n",
              "0   Algeria  AFRICA\n",
              "1    Angola  AFRICA\n",
              "2     Benin  AFRICA\n",
              "3  Botswana  AFRICA\n",
              "4   Burkina  AFRICA"
            ]
          },
          "metadata": {
            "tags": []
          },
          "execution_count": 130
        }
      ]
    },
    {
      "cell_type": "code",
      "metadata": {
        "id": "KJ3vs1Q_VRq6",
        "outputId": "e057d1a5-24fd-4db5-b694-58413aba04e5",
        "colab": {
          "base_uri": "https://localhost:8080/",
          "height": 204
        }
      },
      "source": [
        "df.tail()"
      ],
      "execution_count": 131,
      "outputs": [
        {
          "output_type": "execute_result",
          "data": {
            "text/html": [
              "<div>\n",
              "<style scoped>\n",
              "    .dataframe tbody tr th:only-of-type {\n",
              "        vertical-align: middle;\n",
              "    }\n",
              "\n",
              "    .dataframe tbody tr th {\n",
              "        vertical-align: top;\n",
              "    }\n",
              "\n",
              "    .dataframe thead th {\n",
              "        text-align: right;\n",
              "    }\n",
              "</style>\n",
              "<table border=\"1\" class=\"dataframe\">\n",
              "  <thead>\n",
              "    <tr style=\"text-align: right;\">\n",
              "      <th></th>\n",
              "      <th>Country</th>\n",
              "      <th>Region</th>\n",
              "    </tr>\n",
              "  </thead>\n",
              "  <tbody>\n",
              "    <tr>\n",
              "      <th>189</th>\n",
              "      <td>Paraguay</td>\n",
              "      <td>SOUTH AMERICA</td>\n",
              "    </tr>\n",
              "    <tr>\n",
              "      <th>190</th>\n",
              "      <td>Peru</td>\n",
              "      <td>SOUTH AMERICA</td>\n",
              "    </tr>\n",
              "    <tr>\n",
              "      <th>191</th>\n",
              "      <td>Suriname</td>\n",
              "      <td>SOUTH AMERICA</td>\n",
              "    </tr>\n",
              "    <tr>\n",
              "      <th>192</th>\n",
              "      <td>Uruguay</td>\n",
              "      <td>SOUTH AMERICA</td>\n",
              "    </tr>\n",
              "    <tr>\n",
              "      <th>193</th>\n",
              "      <td>Venezuela</td>\n",
              "      <td>SOUTH AMERICA</td>\n",
              "    </tr>\n",
              "  </tbody>\n",
              "</table>\n",
              "</div>"
            ],
            "text/plain": [
              "       Country         Region\n",
              "189   Paraguay  SOUTH AMERICA\n",
              "190       Peru  SOUTH AMERICA\n",
              "191   Suriname  SOUTH AMERICA\n",
              "192    Uruguay  SOUTH AMERICA\n",
              "193  Venezuela  SOUTH AMERICA"
            ]
          },
          "metadata": {
            "tags": []
          },
          "execution_count": 131
        }
      ]
    },
    {
      "cell_type": "code",
      "metadata": {
        "id": "zsD-geb1WKR9",
        "outputId": "1657aa3f-1ede-4147-f69c-c911f60ab6d7",
        "colab": {
          "base_uri": "https://localhost:8080/",
          "height": 1000
        }
      },
      "source": [
        "t = Template(\n",
        "\"\"\"\n",
        "<!doctype html>\n",
        "<title>Simple tables</title>\n",
        "<div class=page>\n",
        "  <h1>Regions - Country</h1>\n",
        "  {% for key,value in dataframe.iterrows() %}\n",
        "    <h2>{{ value['Country'] }} - {{ value['Region'] }}</h2>\n",
        "  {% endfor %}\n",
        "</div>\n",
        "\"\"\"\n",
        ")\n",
        "result = t.render(dataframe=df)\n",
        "print(result)"
      ],
      "execution_count": 132,
      "outputs": [
        {
          "output_type": "stream",
          "text": [
            "\n",
            "<!doctype html>\n",
            "<title>Simple tables</title>\n",
            "<div class=page>\n",
            "  <h1>Regions - Country</h1>\n",
            "  \n",
            "    <h2>Algeria - AFRICA</h2>\n",
            "  \n",
            "    <h2>Angola - AFRICA</h2>\n",
            "  \n",
            "    <h2>Benin - AFRICA</h2>\n",
            "  \n",
            "    <h2>Botswana - AFRICA</h2>\n",
            "  \n",
            "    <h2>Burkina - AFRICA</h2>\n",
            "  \n",
            "    <h2>Burundi - AFRICA</h2>\n",
            "  \n",
            "    <h2>Cameroon - AFRICA</h2>\n",
            "  \n",
            "    <h2>Cape Verde - AFRICA</h2>\n",
            "  \n",
            "    <h2>Central African Republic - AFRICA</h2>\n",
            "  \n",
            "    <h2>Chad - AFRICA</h2>\n",
            "  \n",
            "    <h2>Comoros - AFRICA</h2>\n",
            "  \n",
            "    <h2>Congo - AFRICA</h2>\n",
            "  \n",
            "    <h2>Congo, Democratic Republic of - AFRICA</h2>\n",
            "  \n",
            "    <h2>Djibouti - AFRICA</h2>\n",
            "  \n",
            "    <h2>Egypt - AFRICA</h2>\n",
            "  \n",
            "    <h2>Equatorial Guinea - AFRICA</h2>\n",
            "  \n",
            "    <h2>Eritrea - AFRICA</h2>\n",
            "  \n",
            "    <h2>Ethiopia - AFRICA</h2>\n",
            "  \n",
            "    <h2>Gabon - AFRICA</h2>\n",
            "  \n",
            "    <h2>Gambia - AFRICA</h2>\n",
            "  \n",
            "    <h2>Ghana - AFRICA</h2>\n",
            "  \n",
            "    <h2>Guinea - AFRICA</h2>\n",
            "  \n",
            "    <h2>Guinea-Bissau - AFRICA</h2>\n",
            "  \n",
            "    <h2>Ivory Coast - AFRICA</h2>\n",
            "  \n",
            "    <h2>Kenya - AFRICA</h2>\n",
            "  \n",
            "    <h2>Lesotho - AFRICA</h2>\n",
            "  \n",
            "    <h2>Liberia - AFRICA</h2>\n",
            "  \n",
            "    <h2>Libya - AFRICA</h2>\n",
            "  \n",
            "    <h2>Madagascar - AFRICA</h2>\n",
            "  \n",
            "    <h2>Malawi - AFRICA</h2>\n",
            "  \n",
            "    <h2>Mali - AFRICA</h2>\n",
            "  \n",
            "    <h2>Mauritania - AFRICA</h2>\n",
            "  \n",
            "    <h2>Mauritius - AFRICA</h2>\n",
            "  \n",
            "    <h2>Morocco - AFRICA</h2>\n",
            "  \n",
            "    <h2>Mozambique - AFRICA</h2>\n",
            "  \n",
            "    <h2>Namibia - AFRICA</h2>\n",
            "  \n",
            "    <h2>Niger - AFRICA</h2>\n",
            "  \n",
            "    <h2>Nigeria - AFRICA</h2>\n",
            "  \n",
            "    <h2>Rwanda - AFRICA</h2>\n",
            "  \n",
            "    <h2>Sao Tome and Principe - AFRICA</h2>\n",
            "  \n",
            "    <h2>Senegal - AFRICA</h2>\n",
            "  \n",
            "    <h2>Seychelles - AFRICA</h2>\n",
            "  \n",
            "    <h2>Sierra Leone - AFRICA</h2>\n",
            "  \n",
            "    <h2>Somalia - AFRICA</h2>\n",
            "  \n",
            "    <h2>South Africa - AFRICA</h2>\n",
            "  \n",
            "    <h2>South Sudan - AFRICA</h2>\n",
            "  \n",
            "    <h2>Sudan - AFRICA</h2>\n",
            "  \n",
            "    <h2>Swaziland - AFRICA</h2>\n",
            "  \n",
            "    <h2>Tanzania - AFRICA</h2>\n",
            "  \n",
            "    <h2>Togo - AFRICA</h2>\n",
            "  \n",
            "    <h2>Tunisia - AFRICA</h2>\n",
            "  \n",
            "    <h2>Uganda - AFRICA</h2>\n",
            "  \n",
            "    <h2>Zambia - AFRICA</h2>\n",
            "  \n",
            "    <h2>Zimbabwe - AFRICA</h2>\n",
            "  \n",
            "    <h2>Afghanistan - ASIA</h2>\n",
            "  \n",
            "    <h2>Bahrain - ASIA</h2>\n",
            "  \n",
            "    <h2>Bangladesh - ASIA</h2>\n",
            "  \n",
            "    <h2>Bhutan - ASIA</h2>\n",
            "  \n",
            "    <h2>Brunei - ASIA</h2>\n",
            "  \n",
            "    <h2>Burma - ASIA</h2>\n",
            "  \n",
            "    <h2>Cambodia - ASIA</h2>\n",
            "  \n",
            "    <h2>China - ASIA</h2>\n",
            "  \n",
            "    <h2>East Timor - ASIA</h2>\n",
            "  \n",
            "    <h2>India - ASIA</h2>\n",
            "  \n",
            "    <h2>Indonesia - ASIA</h2>\n",
            "  \n",
            "    <h2>Iran - ASIA</h2>\n",
            "  \n",
            "    <h2>Iraq - ASIA</h2>\n",
            "  \n",
            "    <h2>Israel - ASIA</h2>\n",
            "  \n",
            "    <h2>Japan - ASIA</h2>\n",
            "  \n",
            "    <h2>Jordan - ASIA</h2>\n",
            "  \n",
            "    <h2>Kazakhstan - ASIA</h2>\n",
            "  \n",
            "    <h2>Korea, North - ASIA</h2>\n",
            "  \n",
            "    <h2>Korea, South - ASIA</h2>\n",
            "  \n",
            "    <h2>Kuwait - ASIA</h2>\n",
            "  \n",
            "    <h2>Kyrgyzstan - ASIA</h2>\n",
            "  \n",
            "    <h2>Laos - ASIA</h2>\n",
            "  \n",
            "    <h2>Lebanon - ASIA</h2>\n",
            "  \n",
            "    <h2>Malaysia - ASIA</h2>\n",
            "  \n",
            "    <h2>Maldives - ASIA</h2>\n",
            "  \n",
            "    <h2>Mongolia - ASIA</h2>\n",
            "  \n",
            "    <h2>Nepal - ASIA</h2>\n",
            "  \n",
            "    <h2>Oman - ASIA</h2>\n",
            "  \n",
            "    <h2>Pakistan - ASIA</h2>\n",
            "  \n",
            "    <h2>Philippines - ASIA</h2>\n",
            "  \n",
            "    <h2>Qatar - ASIA</h2>\n",
            "  \n",
            "    <h2>Russian Federation - ASIA</h2>\n",
            "  \n",
            "    <h2>Saudi Arabia - ASIA</h2>\n",
            "  \n",
            "    <h2>Singapore - ASIA</h2>\n",
            "  \n",
            "    <h2>Sri Lanka - ASIA</h2>\n",
            "  \n",
            "    <h2>Syria - ASIA</h2>\n",
            "  \n",
            "    <h2>Tajikistan - ASIA</h2>\n",
            "  \n",
            "    <h2>Thailand - ASIA</h2>\n",
            "  \n",
            "    <h2>Turkey - ASIA</h2>\n",
            "  \n",
            "    <h2>Turkmenistan - ASIA</h2>\n",
            "  \n",
            "    <h2>United Arab Emirates - ASIA</h2>\n",
            "  \n",
            "    <h2>Uzbekistan - ASIA</h2>\n",
            "  \n",
            "    <h2>Vietnam - ASIA</h2>\n",
            "  \n",
            "    <h2>Yemen - ASIA</h2>\n",
            "  \n",
            "    <h2>Albania - EUROPE</h2>\n",
            "  \n",
            "    <h2>Andorra - EUROPE</h2>\n",
            "  \n",
            "    <h2>Armenia - EUROPE</h2>\n",
            "  \n",
            "    <h2>Austria - EUROPE</h2>\n",
            "  \n",
            "    <h2>Azerbaijan - EUROPE</h2>\n",
            "  \n",
            "    <h2>Belarus - EUROPE</h2>\n",
            "  \n",
            "    <h2>Belgium - EUROPE</h2>\n",
            "  \n",
            "    <h2>Bosnia and Herzegovina - EUROPE</h2>\n",
            "  \n",
            "    <h2>Bulgaria - EUROPE</h2>\n",
            "  \n",
            "    <h2>Croatia - EUROPE</h2>\n",
            "  \n",
            "    <h2>Cyprus - EUROPE</h2>\n",
            "  \n",
            "    <h2>Czech Republic - EUROPE</h2>\n",
            "  \n",
            "    <h2>Denmark - EUROPE</h2>\n",
            "  \n",
            "    <h2>Estonia - EUROPE</h2>\n",
            "  \n",
            "    <h2>Finland - EUROPE</h2>\n",
            "  \n",
            "    <h2>France - EUROPE</h2>\n",
            "  \n",
            "    <h2>Georgia - EUROPE</h2>\n",
            "  \n",
            "    <h2>Germany - EUROPE</h2>\n",
            "  \n",
            "    <h2>Greece - EUROPE</h2>\n",
            "  \n",
            "    <h2>Hungary - EUROPE</h2>\n",
            "  \n",
            "    <h2>Iceland - EUROPE</h2>\n",
            "  \n",
            "    <h2>Ireland - EUROPE</h2>\n",
            "  \n",
            "    <h2>Italy - EUROPE</h2>\n",
            "  \n",
            "    <h2>Latvia - EUROPE</h2>\n",
            "  \n",
            "    <h2>Liechtenstein - EUROPE</h2>\n",
            "  \n",
            "    <h2>Lithuania - EUROPE</h2>\n",
            "  \n",
            "    <h2>Luxembourg - EUROPE</h2>\n",
            "  \n",
            "    <h2>Macedonia - EUROPE</h2>\n",
            "  \n",
            "    <h2>Malta - EUROPE</h2>\n",
            "  \n",
            "    <h2>Moldova - EUROPE</h2>\n",
            "  \n",
            "    <h2>Monaco - EUROPE</h2>\n",
            "  \n",
            "    <h2>Montenegro - EUROPE</h2>\n",
            "  \n",
            "    <h2>Netherlands - EUROPE</h2>\n",
            "  \n",
            "    <h2>Norway - EUROPE</h2>\n",
            "  \n",
            "    <h2>Poland - EUROPE</h2>\n",
            "  \n",
            "    <h2>Portugal - EUROPE</h2>\n",
            "  \n",
            "    <h2>Romania - EUROPE</h2>\n",
            "  \n",
            "    <h2>San Marino - EUROPE</h2>\n",
            "  \n",
            "    <h2>Serbia - EUROPE</h2>\n",
            "  \n",
            "    <h2>Slovakia - EUROPE</h2>\n",
            "  \n",
            "    <h2>Slovenia - EUROPE</h2>\n",
            "  \n",
            "    <h2>Spain - EUROPE</h2>\n",
            "  \n",
            "    <h2>Sweden - EUROPE</h2>\n",
            "  \n",
            "    <h2>Switzerland - EUROPE</h2>\n",
            "  \n",
            "    <h2>Ukraine - EUROPE</h2>\n",
            "  \n",
            "    <h2>United Kingdom - EUROPE</h2>\n",
            "  \n",
            "    <h2>Vatican City - EUROPE</h2>\n",
            "  \n",
            "    <h2>Antigua and Barbuda - NORTH AMERICA</h2>\n",
            "  \n",
            "    <h2>Bahamas - NORTH AMERICA</h2>\n",
            "  \n",
            "    <h2>Barbados - NORTH AMERICA</h2>\n",
            "  \n",
            "    <h2>Belize - NORTH AMERICA</h2>\n",
            "  \n",
            "    <h2>Canada - NORTH AMERICA</h2>\n",
            "  \n",
            "    <h2>Costa Rica - NORTH AMERICA</h2>\n",
            "  \n",
            "    <h2>Cuba - NORTH AMERICA</h2>\n",
            "  \n",
            "    <h2>Dominica - NORTH AMERICA</h2>\n",
            "  \n",
            "    <h2>Dominican Republic - NORTH AMERICA</h2>\n",
            "  \n",
            "    <h2>El Salvador - NORTH AMERICA</h2>\n",
            "  \n",
            "    <h2>Grenada - NORTH AMERICA</h2>\n",
            "  \n",
            "    <h2>Guatemala - NORTH AMERICA</h2>\n",
            "  \n",
            "    <h2>Haiti - NORTH AMERICA</h2>\n",
            "  \n",
            "    <h2>Honduras - NORTH AMERICA</h2>\n",
            "  \n",
            "    <h2>Jamaica - NORTH AMERICA</h2>\n",
            "  \n",
            "    <h2>Mexico - NORTH AMERICA</h2>\n",
            "  \n",
            "    <h2>Nicaragua - NORTH AMERICA</h2>\n",
            "  \n",
            "    <h2>Panama - NORTH AMERICA</h2>\n",
            "  \n",
            "    <h2>Saint Kitts and Nevis - NORTH AMERICA</h2>\n",
            "  \n",
            "    <h2>Saint Lucia - NORTH AMERICA</h2>\n",
            "  \n",
            "    <h2>Saint Vincent and the Grenadines - NORTH AMERICA</h2>\n",
            "  \n",
            "    <h2>Trinidad and Tobago - NORTH AMERICA</h2>\n",
            "  \n",
            "    <h2>United States - NORTH AMERICA</h2>\n",
            "  \n",
            "    <h2>Australia - OCEANIA</h2>\n",
            "  \n",
            "    <h2>Fiji - OCEANIA</h2>\n",
            "  \n",
            "    <h2>Kiribati - OCEANIA</h2>\n",
            "  \n",
            "    <h2>Marshall Islands - OCEANIA</h2>\n",
            "  \n",
            "    <h2>Micronesia - OCEANIA</h2>\n",
            "  \n",
            "    <h2>Nauru - OCEANIA</h2>\n",
            "  \n",
            "    <h2>New Zealand - OCEANIA</h2>\n",
            "  \n",
            "    <h2>Palau - OCEANIA</h2>\n",
            "  \n",
            "    <h2>Papua New Guinea - OCEANIA</h2>\n",
            "  \n",
            "    <h2>Samoa - OCEANIA</h2>\n",
            "  \n",
            "    <h2>Solomon Islands - OCEANIA</h2>\n",
            "  \n",
            "    <h2>Tonga - OCEANIA</h2>\n",
            "  \n",
            "    <h2>Tuvalu - OCEANIA</h2>\n",
            "  \n",
            "    <h2>Vanuatu - OCEANIA</h2>\n",
            "  \n",
            "    <h2>Argentina - SOUTH AMERICA</h2>\n",
            "  \n",
            "    <h2>Bolivia - SOUTH AMERICA</h2>\n",
            "  \n",
            "    <h2>Brazil - SOUTH AMERICA</h2>\n",
            "  \n",
            "    <h2>Chile - SOUTH AMERICA</h2>\n",
            "  \n",
            "    <h2>Colombia - SOUTH AMERICA</h2>\n",
            "  \n",
            "    <h2>Ecuador - SOUTH AMERICA</h2>\n",
            "  \n",
            "    <h2>Guyana - SOUTH AMERICA</h2>\n",
            "  \n",
            "    <h2>Paraguay - SOUTH AMERICA</h2>\n",
            "  \n",
            "    <h2>Peru - SOUTH AMERICA</h2>\n",
            "  \n",
            "    <h2>Suriname - SOUTH AMERICA</h2>\n",
            "  \n",
            "    <h2>Uruguay - SOUTH AMERICA</h2>\n",
            "  \n",
            "    <h2>Venezuela - SOUTH AMERICA</h2>\n",
            "  \n",
            "</div>\n"
          ],
          "name": "stdout"
        }
      ]
    },
    {
      "cell_type": "markdown",
      "metadata": {
        "id": "javTcRkoiUII"
      },
      "source": [
        "## WeasyPrint\n",
        "\n",
        "WeasyPrint is a smart solution helping web developers to create PDF documents. It turns simple HTML pages into gorgeous statistical reports, invoices, tickets…\n",
        "\n",
        "https://pypi.org/project/WeasyPrint/"
      ]
    },
    {
      "cell_type": "code",
      "metadata": {
        "id": "SCoad-jZX1zv",
        "outputId": "c9c59997-6a36-434a-9d5e-6d0bc1797683",
        "colab": {
          "base_uri": "https://localhost:8080/",
          "height": 275
        }
      },
      "source": [
        "!pip install weasyprint"
      ],
      "execution_count": 133,
      "outputs": [
        {
          "output_type": "stream",
          "text": [
            "Requirement already satisfied: weasyprint in /usr/local/lib/python3.6/dist-packages (51)\n",
            "Requirement already satisfied: Pyphen>=0.9.1 in /usr/local/lib/python3.6/dist-packages (from weasyprint) (0.9.5)\n",
            "Requirement already satisfied: cssselect2>=0.1 in /usr/local/lib/python3.6/dist-packages (from weasyprint) (0.3.0)\n",
            "Requirement already satisfied: setuptools>=39.2.0 in /usr/local/lib/python3.6/dist-packages (from weasyprint) (50.3.0)\n",
            "Requirement already satisfied: tinycss2>=1.0.0 in /usr/local/lib/python3.6/dist-packages (from weasyprint) (1.0.2)\n",
            "Requirement already satisfied: cairocffi>=0.9.0 in /usr/local/lib/python3.6/dist-packages (from weasyprint) (1.1.0)\n",
            "Requirement already satisfied: cffi>=0.6 in /usr/local/lib/python3.6/dist-packages (from weasyprint) (1.14.3)\n",
            "Requirement already satisfied: html5lib>=0.999999999 in /usr/local/lib/python3.6/dist-packages (from weasyprint) (1.0.1)\n",
            "Requirement already satisfied: CairoSVG>=2.4.0 in /usr/local/lib/python3.6/dist-packages (from weasyprint) (2.4.2)\n",
            "Requirement already satisfied: webencodings in /usr/local/lib/python3.6/dist-packages (from cssselect2>=0.1->weasyprint) (0.5.1)\n",
            "Requirement already satisfied: pycparser in /usr/local/lib/python3.6/dist-packages (from cffi>=0.6->weasyprint) (2.20)\n",
            "Requirement already satisfied: six>=1.9 in /usr/local/lib/python3.6/dist-packages (from html5lib>=0.999999999->weasyprint) (1.15.0)\n",
            "Requirement already satisfied: pillow in /usr/local/lib/python3.6/dist-packages (from CairoSVG>=2.4.0->weasyprint) (7.0.0)\n",
            "Requirement already satisfied: defusedxml in /usr/local/lib/python3.6/dist-packages (from CairoSVG>=2.4.0->weasyprint) (0.6.0)\n"
          ],
          "name": "stdout"
        }
      ]
    },
    {
      "cell_type": "code",
      "metadata": {
        "id": "oWhnWVgPYWzt"
      },
      "source": [
        "from weasyprint import HTML\n",
        "HTML(string=result).write_pdf(\"report.pdf\")"
      ],
      "execution_count": 134,
      "outputs": []
    },
    {
      "cell_type": "code",
      "metadata": {
        "id": "Rn4vN1TkaFeR",
        "outputId": "9fd0722c-2ad7-4203-ba10-54b9ddbb3585",
        "colab": {
          "base_uri": "https://localhost:8080/",
          "height": 34
        }
      },
      "source": [
        "from google.colab import files\n",
        "print('downloading report pdf..')\n",
        "files.download('report.pdf')"
      ],
      "execution_count": 135,
      "outputs": [
        {
          "output_type": "stream",
          "text": [
            "downloading report pdf..\n"
          ],
          "name": "stdout"
        },
        {
          "output_type": "display_data",
          "data": {
            "application/javascript": [
              "\n",
              "    async function download(id, filename, size) {\n",
              "      if (!google.colab.kernel.accessAllowed) {\n",
              "        return;\n",
              "      }\n",
              "      const div = document.createElement('div');\n",
              "      const label = document.createElement('label');\n",
              "      label.textContent = `Downloading \"${filename}\": `;\n",
              "      div.appendChild(label);\n",
              "      const progress = document.createElement('progress');\n",
              "      progress.max = size;\n",
              "      div.appendChild(progress);\n",
              "      document.body.appendChild(div);\n",
              "\n",
              "      const buffers = [];\n",
              "      let downloaded = 0;\n",
              "\n",
              "      const channel = await google.colab.kernel.comms.open(id);\n",
              "      // Send a message to notify the kernel that we're ready.\n",
              "      channel.send({})\n",
              "\n",
              "      for await (const message of channel.messages) {\n",
              "        // Send a message to notify the kernel that we're ready.\n",
              "        channel.send({})\n",
              "        if (message.buffers) {\n",
              "          for (const buffer of message.buffers) {\n",
              "            buffers.push(buffer);\n",
              "            downloaded += buffer.byteLength;\n",
              "            progress.value = downloaded;\n",
              "          }\n",
              "        }\n",
              "      }\n",
              "      const blob = new Blob(buffers, {type: 'application/binary'});\n",
              "      const a = document.createElement('a');\n",
              "      a.href = window.URL.createObjectURL(blob);\n",
              "      a.download = filename;\n",
              "      div.appendChild(a);\n",
              "      a.click();\n",
              "      div.remove();\n",
              "    }\n",
              "  "
            ],
            "text/plain": [
              "<IPython.core.display.Javascript object>"
            ]
          },
          "metadata": {
            "tags": []
          }
        },
        {
          "output_type": "display_data",
          "data": {
            "application/javascript": [
              "download(\"download_386a3fc3-7f85-4368-b0d5-da6d868490dd\", \"report.pdf\", 52142)"
            ],
            "text/plain": [
              "<IPython.core.display.Javascript object>"
            ]
          },
          "metadata": {
            "tags": []
          }
        }
      ]
    },
    {
      "cell_type": "markdown",
      "metadata": {
        "id": "vFENgMsKcrSk"
      },
      "source": [
        "## python docx\n",
        "\n",
        "https://github.com/elapouya/python-docx-template/blob/master/docs/index.rst"
      ]
    },
    {
      "cell_type": "code",
      "metadata": {
        "id": "fhl82Q29dIcb",
        "outputId": "18c202ab-8bbb-4010-a137-28a94100bb0f",
        "colab": {
          "base_uri": "https://localhost:8080/",
          "height": 139
        }
      },
      "source": [
        "!pip install docxtpl"
      ],
      "execution_count": 136,
      "outputs": [
        {
          "output_type": "stream",
          "text": [
            "Requirement already satisfied: docxtpl in /usr/local/lib/python3.6/dist-packages (0.10.0)\n",
            "Requirement already satisfied: python-docx in /usr/local/lib/python3.6/dist-packages (from docxtpl) (0.8.10)\n",
            "Requirement already satisfied: six in /usr/local/lib/python3.6/dist-packages (from docxtpl) (1.15.0)\n",
            "Requirement already satisfied: lxml in /usr/local/lib/python3.6/dist-packages (from docxtpl) (4.2.6)\n",
            "Requirement already satisfied: jinja2 in /usr/local/lib/python3.6/dist-packages (from docxtpl) (2.11.2)\n",
            "Requirement already satisfied: MarkupSafe>=0.23 in /usr/local/lib/python3.6/dist-packages (from jinja2->docxtpl) (1.1.1)\n"
          ],
          "name": "stdout"
        }
      ]
    },
    {
      "cell_type": "code",
      "metadata": {
        "id": "0-IcictEcv0N"
      },
      "source": [
        "from docxtpl import DocxTemplate\n",
        "\n",
        "doc = DocxTemplate(\"my_word_template.docx\")\n",
        "context = { 'company_name' : \"World company\" }\n",
        "doc.render(context)\n",
        "doc.save(\"generated_doc.docx\")"
      ],
      "execution_count": 137,
      "outputs": []
    },
    {
      "cell_type": "code",
      "metadata": {
        "id": "OEIDazx9dSiv",
        "outputId": "431437a4-f2e2-478a-d398-51eb2dac92c2",
        "colab": {
          "base_uri": "https://localhost:8080/",
          "height": 34
        }
      },
      "source": [
        "print('downloading generated_doc docx rendered..')\n",
        "files.download('generated_doc.docx')"
      ],
      "execution_count": 138,
      "outputs": [
        {
          "output_type": "stream",
          "text": [
            "downloading generated_doc docx rendered..\n"
          ],
          "name": "stdout"
        },
        {
          "output_type": "display_data",
          "data": {
            "application/javascript": [
              "\n",
              "    async function download(id, filename, size) {\n",
              "      if (!google.colab.kernel.accessAllowed) {\n",
              "        return;\n",
              "      }\n",
              "      const div = document.createElement('div');\n",
              "      const label = document.createElement('label');\n",
              "      label.textContent = `Downloading \"${filename}\": `;\n",
              "      div.appendChild(label);\n",
              "      const progress = document.createElement('progress');\n",
              "      progress.max = size;\n",
              "      div.appendChild(progress);\n",
              "      document.body.appendChild(div);\n",
              "\n",
              "      const buffers = [];\n",
              "      let downloaded = 0;\n",
              "\n",
              "      const channel = await google.colab.kernel.comms.open(id);\n",
              "      // Send a message to notify the kernel that we're ready.\n",
              "      channel.send({})\n",
              "\n",
              "      for await (const message of channel.messages) {\n",
              "        // Send a message to notify the kernel that we're ready.\n",
              "        channel.send({})\n",
              "        if (message.buffers) {\n",
              "          for (const buffer of message.buffers) {\n",
              "            buffers.push(buffer);\n",
              "            downloaded += buffer.byteLength;\n",
              "            progress.value = downloaded;\n",
              "          }\n",
              "        }\n",
              "      }\n",
              "      const blob = new Blob(buffers, {type: 'application/binary'});\n",
              "      const a = document.createElement('a');\n",
              "      a.href = window.URL.createObjectURL(blob);\n",
              "      a.download = filename;\n",
              "      div.appendChild(a);\n",
              "      a.click();\n",
              "      div.remove();\n",
              "    }\n",
              "  "
            ],
            "text/plain": [
              "<IPython.core.display.Javascript object>"
            ]
          },
          "metadata": {
            "tags": []
          }
        },
        {
          "output_type": "display_data",
          "data": {
            "application/javascript": [
              "download(\"download_6ed75caa-380b-4db6-b24f-629f9e1024c9\", \"generated_doc.docx\", 4510)"
            ],
            "text/plain": [
              "<IPython.core.display.Javascript object>"
            ]
          },
          "metadata": {
            "tags": []
          }
        }
      ]
    },
    {
      "cell_type": "code",
      "metadata": {
        "id": "3qYQvu92f9jD"
      },
      "source": [
        "doc = DocxTemplate(\"DocxTest.docx\")\n",
        "context = {'dataframe': df}\n",
        "doc.render(context)\n",
        "doc.save(\"generated_DocxTest.docx\")"
      ],
      "execution_count": 139,
      "outputs": []
    },
    {
      "cell_type": "code",
      "metadata": {
        "id": "saFBxpz9gRKB",
        "outputId": "7a527ba9-829c-427e-a92c-bc7b235ccf07",
        "colab": {
          "base_uri": "https://localhost:8080/",
          "height": 34
        }
      },
      "source": [
        "print('downloading generated_DocxTest docx rendered..')\n",
        "files.download('generated_DocxTest.docx')"
      ],
      "execution_count": 140,
      "outputs": [
        {
          "output_type": "stream",
          "text": [
            "downloading generated_DocxTest docx rendered..\n"
          ],
          "name": "stdout"
        },
        {
          "output_type": "display_data",
          "data": {
            "application/javascript": [
              "\n",
              "    async function download(id, filename, size) {\n",
              "      if (!google.colab.kernel.accessAllowed) {\n",
              "        return;\n",
              "      }\n",
              "      const div = document.createElement('div');\n",
              "      const label = document.createElement('label');\n",
              "      label.textContent = `Downloading \"${filename}\": `;\n",
              "      div.appendChild(label);\n",
              "      const progress = document.createElement('progress');\n",
              "      progress.max = size;\n",
              "      div.appendChild(progress);\n",
              "      document.body.appendChild(div);\n",
              "\n",
              "      const buffers = [];\n",
              "      let downloaded = 0;\n",
              "\n",
              "      const channel = await google.colab.kernel.comms.open(id);\n",
              "      // Send a message to notify the kernel that we're ready.\n",
              "      channel.send({})\n",
              "\n",
              "      for await (const message of channel.messages) {\n",
              "        // Send a message to notify the kernel that we're ready.\n",
              "        channel.send({})\n",
              "        if (message.buffers) {\n",
              "          for (const buffer of message.buffers) {\n",
              "            buffers.push(buffer);\n",
              "            downloaded += buffer.byteLength;\n",
              "            progress.value = downloaded;\n",
              "          }\n",
              "        }\n",
              "      }\n",
              "      const blob = new Blob(buffers, {type: 'application/binary'});\n",
              "      const a = document.createElement('a');\n",
              "      a.href = window.URL.createObjectURL(blob);\n",
              "      a.download = filename;\n",
              "      div.appendChild(a);\n",
              "      a.click();\n",
              "      div.remove();\n",
              "    }\n",
              "  "
            ],
            "text/plain": [
              "<IPython.core.display.Javascript object>"
            ]
          },
          "metadata": {
            "tags": []
          }
        },
        {
          "output_type": "display_data",
          "data": {
            "application/javascript": [
              "download(\"download_9e2f34e2-9f2b-473f-85cf-8ad6a1c60591\", \"generated_DocxTest.docx\", 6216)"
            ],
            "text/plain": [
              "<IPython.core.display.Javascript object>"
            ]
          },
          "metadata": {
            "tags": []
          }
        }
      ]
    }
  ]
}